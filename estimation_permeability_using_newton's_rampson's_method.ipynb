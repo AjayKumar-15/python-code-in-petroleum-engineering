{
  "nbformat": 4,
  "nbformat_minor": 0,
  "metadata": {
    "colab": {
      "name": "estimation permeability using newton's rampson's method",
      "provenance": []
    },
    "kernelspec": {
      "name": "python3",
      "display_name": "Python 3"
    },
    "language_info": {
      "name": "python"
    }
  },
  "cells": [
    {
      "cell_type": "code",
      "metadata": {
        "colab": {
          "base_uri": "https://localhost:8080/"
        },
        "id": "uhm7ctzHkeHv",
        "outputId": "b0823622-fd35-4945-a3c1-c658774ad176"
      },
      "source": [
        "pm=float(input(\"Enter the mean pressure: \"))\n",
        "kg=float(input(\"Enter the permeability of gas: \"))\n",
        "ki=float(input(\"Enter the assumed permeability: \"))"
      ],
      "execution_count": null,
      "outputs": [
        {
          "output_type": "stream",
          "text": [
            "Enter the mean pressure: 2.152\n",
            "Enter the permeability of gas: 46.6\n",
            "Enter the assumed permeability: 20\n"
          ],
          "name": "stdout"
        }
      ]
    },
    {
      "cell_type": "code",
      "metadata": {
        "id": "JCQlAzxSlQxy"
      },
      "source": [
        "def func(ki):\n",
        "  return 6.9*ki**(0.64)+pm*ki-pm*kg"
      ],
      "execution_count": null,
      "outputs": []
    },
    {
      "cell_type": "code",
      "metadata": {
        "id": "ryW1djNYrK7s"
      },
      "source": [
        "def drivfunc(ki):\n",
        "  return 4.416*ki**(-0.36)+pm"
      ],
      "execution_count": null,
      "outputs": []
    },
    {
      "cell_type": "code",
      "metadata": {
        "id": "hVbKm4sormVI"
      },
      "source": [
        "def absolute_perm(ki):\n",
        "  h=func(ki)/drivfunc(ki)\n",
        "  while abs(h)>0.00001:\n",
        "    ki=ki-h\n",
        "    h=func(ki)/drivfunc(ki)\n",
        "\n",
        "  print(\"the value of absolute permeability: %.3f\"%(ki))\n"
      ],
      "execution_count": null,
      "outputs": []
    },
    {
      "cell_type": "code",
      "metadata": {
        "colab": {
          "base_uri": "https://localhost:8080/"
        },
        "id": "hQKBz7jMtzZf",
        "outputId": "955e3556-532a-41ee-b202-4842cfc4e70a"
      },
      "source": [
        "absolute_perm(ki)"
      ],
      "execution_count": null,
      "outputs": [
        {
          "output_type": "stream",
          "text": [
            "the value of absolute permeability: 22.849\n"
          ],
          "name": "stdout"
        }
      ]
    },
    {
      "cell_type": "code",
      "metadata": {
        "id": "KbSHEaBxtJOr"
      },
      "source": [
        ""
      ],
      "execution_count": null,
      "outputs": []
    }
  ]
}